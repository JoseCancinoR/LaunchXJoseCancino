{
 "cells": [
  {
   "cell_type": "markdown",
   "metadata": {},
   "source": [
    "# Trabajar con argumentos"
   ]
  },
  {
   "cell_type": "code",
   "execution_count": null,
   "metadata": {},
   "outputs": [],
   "source": [
    "def combustible(tan1, tan2, tan3):\n",
    "    promedio = (tan1+tan2+tan3)/3\n",
    "    print(f'El promedio es: {promedio}')\n",
    "\n",
    "combustible(5, 4, 7)"
   ]
  },
  {
   "cell_type": "code",
   "execution_count": null,
   "metadata": {},
   "outputs": [],
   "source": [
    "print(combustible(5, 4, 7))"
   ]
  },
  {
   "cell_type": "code",
   "execution_count": null,
   "metadata": {},
   "outputs": [],
   "source": [
    "def promedio(values):\n",
    "    total = sum(values)\n",
    "    tankes = len(values)\n",
    "    return total / tankes\n",
    "\n",
    "promedio([5, 4, 7])"
   ]
  },
  {
   "cell_type": "code",
   "execution_count": null,
   "metadata": {},
   "outputs": [],
   "source": [
    "def combustible(tan1, tan2, tan3):\n",
    "    return f'El Promedio es: {promedio([tan1, tan2, tan3])}'\n",
    "print(combustible(3, 7, 8))"
   ]
  },
  {
   "cell_type": "markdown",
   "metadata": {},
   "source": [
    "# Trabajar con argumentos de palabras claves"
   ]
  },
  {
   "cell_type": "code",
   "execution_count": null,
   "metadata": {},
   "outputs": [],
   "source": [
    "def informe(time_dez, time_vuelo, destino, tanke_externo, tanke_interno):\n",
    "    print(f\"\"\"\n",
    "    Hora: {time_dez}\n",
    "    Tiempo: {time_vuelo}\n",
    "    Destino: {destino}\n",
    "    Tanke E:{tanke_externo}\n",
    "    Tanke I:{tanke_interno}\n",
    "    \"\"\")\n",
    "informe(1, 3, \"California\", 100, 100)"
   ]
  },
  {
   "cell_type": "code",
   "execution_count": null,
   "metadata": {},
   "outputs": [],
   "source": [
    "def informe(destino, *minutes, **fuel_reservoirs):\n",
    "    return f\"\"\"\n",
    "    Destino: {destino}\n",
    "    Tiempo de viaje: {sum(minutes)} minutos\n",
    "    Combustible total: {sum(fuel_reservoirs.values())}\n",
    "    \"\"\"\n",
    "print(informe(\"California\", 8, 15, 23, tanke_externo=150, tanke_interno=120))"
   ]
  },
  {
   "cell_type": "code",
   "execution_count": null,
   "metadata": {},
   "outputs": [],
   "source": [
    "def informe(destino, *minutes, **fuel_reservoirs):\n",
    "    informe_viaje = f\"\"\"\n",
    "    Destino: {destino}\n",
    "    Tiempo de viaje: {sum(minutes)} minutes\n",
    "    Combustible total: {sum(fuel_reservoirs.values())}\n",
    "    \"\"\"\n",
    "    for tanke1, tanke2 in fuel_reservoirs.items():\n",
    "        informe_viaje += f\"{tanke1}: {tanke2}\\n    \"\n",
    "    return informe_viaje\n",
    "\n",
    "print(informe(\"California\", 8, 11, 55, tanke_externo=150, tanke_interno=120))"
   ]
  }
 ],
 "metadata": {
  "interpreter": {
   "hash": "6226ba9bf4dcdc1bc8fe7a5a99c8d0b4a0b3ceafbb04a5fdf78655da9991e676"
  },
  "kernelspec": {
   "display_name": "Python 3.10.2 64-bit",
   "language": "python",
   "name": "python3"
  },
  "language_info": {
   "codemirror_mode": {
    "name": "ipython",
    "version": 3
   },
   "file_extension": ".py",
   "mimetype": "text/x-python",
   "name": "python",
   "nbconvert_exporter": "python",
   "pygments_lexer": "ipython3",
   "version": "3.10.2"
  },
  "orig_nbformat": 4
 },
 "nbformat": 4,
 "nbformat_minor": 2
}
